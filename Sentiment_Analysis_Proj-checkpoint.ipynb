{
 "cells": [
  {
   "cell_type": "code",
   "execution_count": 10,
   "metadata": {},
   "outputs": [],
   "source": [
    "import pandas as pd\n",
    "import numpy as np\n",
    "import glob\n",
    "import nltk\n",
    "import xml.etree.ElementTree as ET\n",
    "import matplotlib.pyplot as plt\n",
    "%matplotlib inline"
   ]
  },
  {
   "cell_type": "code",
   "execution_count": 11,
   "metadata": {},
   "outputs": [
    {
     "ename": "FileNotFoundError",
     "evalue": "[Errno 2] No such file or directory: '110-01.xml'",
     "output_type": "error",
     "traceback": [
      "\u001b[1;31m---------------------------------------------------------------------------\u001b[0m",
      "\u001b[1;31mFileNotFoundError\u001b[0m                         Traceback (most recent call last)",
      "\u001b[1;32m<ipython-input-11-8e864ae61745>\u001b[0m in \u001b[0;36m<module>\u001b[1;34m\u001b[0m\n\u001b[1;32m----> 1\u001b[1;33m \u001b[0mtree\u001b[0m \u001b[1;33m=\u001b[0m \u001b[0mET\u001b[0m\u001b[1;33m.\u001b[0m\u001b[0mparse\u001b[0m\u001b[1;33m(\u001b[0m\u001b[1;34m'110-01.xml'\u001b[0m\u001b[1;33m)\u001b[0m\u001b[1;33m\u001b[0m\u001b[1;33m\u001b[0m\u001b[0m\n\u001b[0m\u001b[0;32m      2\u001b[0m \u001b[0mroot\u001b[0m \u001b[1;33m=\u001b[0m \u001b[0mtree\u001b[0m\u001b[1;33m.\u001b[0m\u001b[0mgetroot\u001b[0m\u001b[1;33m(\u001b[0m\u001b[1;33m)\u001b[0m\u001b[1;33m\u001b[0m\u001b[1;33m\u001b[0m\u001b[0m\n\u001b[0;32m      3\u001b[0m \u001b[1;32mfrom\u001b[0m \u001b[0mnltk\u001b[0m\u001b[1;33m.\u001b[0m\u001b[0mtokenize\u001b[0m \u001b[1;32mimport\u001b[0m \u001b[0msent_tokenize\u001b[0m\u001b[1;33m\u001b[0m\u001b[1;33m\u001b[0m\u001b[0m\n",
      "\u001b[1;32m~\\Anaconda3\\lib\\xml\\etree\\ElementTree.py\u001b[0m in \u001b[0;36mparse\u001b[1;34m(source, parser)\u001b[0m\n\u001b[0;32m   1195\u001b[0m     \"\"\"\n\u001b[0;32m   1196\u001b[0m     \u001b[0mtree\u001b[0m \u001b[1;33m=\u001b[0m \u001b[0mElementTree\u001b[0m\u001b[1;33m(\u001b[0m\u001b[1;33m)\u001b[0m\u001b[1;33m\u001b[0m\u001b[1;33m\u001b[0m\u001b[0m\n\u001b[1;32m-> 1197\u001b[1;33m     \u001b[0mtree\u001b[0m\u001b[1;33m.\u001b[0m\u001b[0mparse\u001b[0m\u001b[1;33m(\u001b[0m\u001b[0msource\u001b[0m\u001b[1;33m,\u001b[0m \u001b[0mparser\u001b[0m\u001b[1;33m)\u001b[0m\u001b[1;33m\u001b[0m\u001b[1;33m\u001b[0m\u001b[0m\n\u001b[0m\u001b[0;32m   1198\u001b[0m     \u001b[1;32mreturn\u001b[0m \u001b[0mtree\u001b[0m\u001b[1;33m\u001b[0m\u001b[1;33m\u001b[0m\u001b[0m\n\u001b[0;32m   1199\u001b[0m \u001b[1;33m\u001b[0m\u001b[0m\n",
      "\u001b[1;32m~\\Anaconda3\\lib\\xml\\etree\\ElementTree.py\u001b[0m in \u001b[0;36mparse\u001b[1;34m(self, source, parser)\u001b[0m\n\u001b[0;32m    585\u001b[0m         \u001b[0mclose_source\u001b[0m \u001b[1;33m=\u001b[0m \u001b[1;32mFalse\u001b[0m\u001b[1;33m\u001b[0m\u001b[1;33m\u001b[0m\u001b[0m\n\u001b[0;32m    586\u001b[0m         \u001b[1;32mif\u001b[0m \u001b[1;32mnot\u001b[0m \u001b[0mhasattr\u001b[0m\u001b[1;33m(\u001b[0m\u001b[0msource\u001b[0m\u001b[1;33m,\u001b[0m \u001b[1;34m\"read\"\u001b[0m\u001b[1;33m)\u001b[0m\u001b[1;33m:\u001b[0m\u001b[1;33m\u001b[0m\u001b[1;33m\u001b[0m\u001b[0m\n\u001b[1;32m--> 587\u001b[1;33m             \u001b[0msource\u001b[0m \u001b[1;33m=\u001b[0m \u001b[0mopen\u001b[0m\u001b[1;33m(\u001b[0m\u001b[0msource\u001b[0m\u001b[1;33m,\u001b[0m \u001b[1;34m\"rb\"\u001b[0m\u001b[1;33m)\u001b[0m\u001b[1;33m\u001b[0m\u001b[1;33m\u001b[0m\u001b[0m\n\u001b[0m\u001b[0;32m    588\u001b[0m             \u001b[0mclose_source\u001b[0m \u001b[1;33m=\u001b[0m \u001b[1;32mTrue\u001b[0m\u001b[1;33m\u001b[0m\u001b[1;33m\u001b[0m\u001b[0m\n\u001b[0;32m    589\u001b[0m         \u001b[1;32mtry\u001b[0m\u001b[1;33m:\u001b[0m\u001b[1;33m\u001b[0m\u001b[1;33m\u001b[0m\u001b[0m\n",
      "\u001b[1;31mFileNotFoundError\u001b[0m: [Errno 2] No such file or directory: '110-01.xml'"
     ]
    }
   ],
   "source": [
    "tree = ET.parse('110-01.xml')\n",
    "root = tree.getroot()\n",
    "from nltk.tokenize import sent_tokenize"
   ]
  },
  {
   "cell_type": "code",
   "execution_count": 22,
   "metadata": {},
   "outputs": [],
   "source": [
    "df_cols = [\"name\", \"hyptertension\", \"age\"]\n",
    "out_df = pd.DataFrame(columns = df_cols)"
   ]
  },
  {
   "cell_type": "code",
   "execution_count": 8,
   "metadata": {},
   "outputs": [],
   "source": [
    "xtree = ET.parse('110-02.xml')\n",
    "xroot = xtree.getroot()\n",
    "out_df = pd.DataFrame(columns = df_cols)"
   ]
  },
  {
   "cell_type": "code",
   "execution_count": 9,
   "metadata": {},
   "outputs": [
    {
     "name": "stdout",
     "output_type": "stream",
     "text": [
      "   name smoker   age\n",
      "0  None   None  None\n",
      "1  None   None  None\n"
     ]
    }
   ],
   "source": [
    "for node in xroot: \n",
    "        res = []\n",
    "        res.append(node.attrib.get(df_cols[0]))\n",
    "        for el in df_cols[1:]: \n",
    "            if node is not None and node.find(el) is not None:\n",
    "                res.append(node.find(el).text)\n",
    "            else: \n",
    "                res.append(None)\n",
    "        out_df = out_df.append(pd.Series(res, index = df_cols), ignore_index=True)\n",
    "        \n",
    "print(out_df)"
   ]
  },
  {
   "cell_type": "code",
   "execution_count": 10,
   "metadata": {},
   "outputs": [
    {
     "data": {
      "text/plain": [
       "'root'"
      ]
     },
     "execution_count": 10,
     "metadata": {},
     "output_type": "execute_result"
    }
   ],
   "source": [
    "root.tag"
   ]
  },
  {
   "cell_type": "code",
   "execution_count": 11,
   "metadata": {},
   "outputs": [
    {
     "data": {
      "text/plain": [
       "{}"
      ]
     },
     "execution_count": 11,
     "metadata": {},
     "output_type": "execute_result"
    }
   ],
   "source": [
    "root.attrib"
   ]
  },
  {
   "cell_type": "code",
   "execution_count": 12,
   "metadata": {},
   "outputs": [
    {
     "name": "stdout",
     "output_type": "stream",
     "text": [
      "TEXT {}\n",
      "TAGS {}\n"
     ]
    }
   ],
   "source": [
    "for child in root:\n",
    "    print(child.tag, child.attrib)"
   ]
  },
  {
   "cell_type": "code",
   "execution_count": 13,
   "metadata": {},
   "outputs": [
    {
     "data": {
      "text/plain": [
       "['root',\n",
       " 'TEXT',\n",
       " 'TAGS',\n",
       " 'HYPERTENSION',\n",
       " 'HYPERTENSION',\n",
       " 'HYPERTENSION',\n",
       " 'HYPERTENSION',\n",
       " 'HYPERTENSION',\n",
       " 'HYPERTENSION',\n",
       " 'HYPERTENSION',\n",
       " 'HYPERTENSION',\n",
       " 'HYPERTENSION',\n",
       " 'HYPERTENSION',\n",
       " 'HYPERTENSION',\n",
       " 'HYPERTENSION',\n",
       " 'HYPERTENSION',\n",
       " 'HYPERTENSION',\n",
       " 'HYPERTENSION',\n",
       " 'HYPERTENSION',\n",
       " 'FAMILY_HIST',\n",
       " 'FAMILY_HIST',\n",
       " 'FAMILY_HIST',\n",
       " 'FAMILY_HIST',\n",
       " 'SMOKER',\n",
       " 'SMOKER',\n",
       " 'SMOKER',\n",
       " 'SMOKER',\n",
       " 'SMOKER']"
      ]
     },
     "execution_count": 13,
     "metadata": {},
     "output_type": "execute_result"
    }
   ],
   "source": [
    "[elem.tag for elem in root.iter()]"
   ]
  },
  {
   "cell_type": "code",
   "execution_count": 14,
   "metadata": {},
   "outputs": [
    {
     "name": "stdout",
     "output_type": "stream",
     "text": [
      "<?xml version='1.0' encoding='utf8'?>\n",
      "<root>\n",
      "  <TEXT>\n",
      "\n",
      "\n",
      "Record date: 2075-01-07\n",
      "\n",
      "\n",
      "\n",
      "\n",
      "\n",
      "NAME:    Villegas, Yosef  \n",
      "\n",
      "MRN:      8249813\n",
      "\n",
      "\n",
      "\n",
      "S:   Here for follow up of his colonic polyps.  He wants to know the results from\n",
      "\n",
      "     them.  He is not taking hydrochlorothiazide and is curious about his blood\n",
      "\n",
      "     pressure.  He said he has cut his alcohol back to 6 pack once a week.  He\n",
      "\n",
      "     has cut back his cigarettes to one time per week.  He does say he has had\n",
      "\n",
      "     some problems with his memory recently, although no other manifestations\n",
      "\n",
      "     of dementia and no difficulty with ADLs.  He says he uses Viagra\n",
      "\n",
      "     occasionally and it works for him.\n",
      "\n",
      "\n",
      "\n",
      "O:   Well-appearing male. Blood pressure 142/74.  Chest clear.  COR: No\n",
      "\n",
      "     murmur.\n",
      "\n",
      "\n",
      "\n",
      "A:   (1)  Alcohol excess discussed.  I told him to cut it out entirely.\n",
      "\n",
      "     (2)  Cigarette smoking.  Discussed.\n",
      "\n",
      "     (3)  Hypertension. Under good control.\n",
      "\n",
      "     (4)  Elevated lipids.  Will check FLP.\n",
      "\n",
      "     (5)  Worried about dementia. Will check B12, TSH, RPR for now.\n",
      "\n",
      "     (6)  Status-post knee replacement.  Gets occasional Vicodin from his\n",
      "\n",
      "          orthopedist.  Says he wanted 8 Percocet for the next month or two\n",
      "\n",
      "          that he will take on rare occasions when his pain is more severe, and I\n",
      "\n",
      "          did give him 8 Percocet.\n",
      "\n",
      "\n",
      "\n",
      "P:   Follow up with Dr. Hobbs in 3 months.\n",
      "\n",
      "\n",
      "\n",
      "  \n",
      "\n",
      "Gilbert P. Perez, M.D.\n",
      "\n",
      "\n",
      "\n",
      "GPP/church/olinger\n",
      "\n",
      "\n",
      "\n",
      "\n",
      "\n",
      "</TEXT>\n",
      "  <TAGS>\n",
      "    <HYPERTENSION id=\"DOC0\" indicator=\"mention\" time=\"before DCT\">\n",
      "      <HYPERTENSION comment=\"\" end=\"824\" id=\"H0\" indicator=\"mention\" start=\"812\" text=\"Hypertension\" time=\"before DCT\" />\n",
      "      <HYPERTENSION comment=\"\" end=\"824\" id=\"H1\" indicator=\"mention\" start=\"812\" text=\"Hypertension\" time=\"before DCT\" />\n",
      "      <HYPERTENSION comment=\"\" end=\"824\" id=\"H2\" indicator=\"mention\" start=\"812\" text=\"Hypertension\" time=\"before DCT\" />\n",
      "    </HYPERTENSION>\n",
      "    <HYPERTENSION id=\"DOC1\" indicator=\"high bp\" time=\"during DCT\">\n",
      "      <HYPERTENSION comment=\"\" end=\"646\" id=\"H3\" indicator=\"high bp\" start=\"639\" text=\"142/74.\" time=\"during DCT\" />\n",
      "      <HYPERTENSION comment=\"\" end=\"645\" id=\"H4\" indicator=\"high bp\" start=\"639\" text=\"142/74\" time=\"during DCT\" />\n",
      "      <HYPERTENSION comment=\"\" end=\"646\" id=\"H5\" indicator=\"high bp\" start=\"639\" text=\"142/74.\" time=\"during DCT\" />\n",
      "    </HYPERTENSION>\n",
      "    <HYPERTENSION id=\"DOC3\" indicator=\"mention\" time=\"during DCT\">\n",
      "      <HYPERTENSION comment=\"\" end=\"824\" id=\"H6\" indicator=\"mention\" start=\"812\" text=\"Hypertension\" time=\"during DCT\" />\n",
      "      <HYPERTENSION comment=\"\" end=\"824\" id=\"H7\" indicator=\"mention\" start=\"812\" text=\"Hypertension\" time=\"during DCT\" />\n",
      "      <HYPERTENSION comment=\"\" end=\"824\" id=\"H8\" indicator=\"mention\" start=\"812\" text=\"Hypertension\" time=\"during DCT\" />\n",
      "    </HYPERTENSION>\n",
      "    <HYPERTENSION id=\"DOC4\" indicator=\"mention\" time=\"after DCT\">\n",
      "      <HYPERTENSION comment=\"\" end=\"824\" id=\"H9\" indicator=\"mention\" start=\"812\" text=\"Hypertension\" time=\"after DCT\" />\n",
      "      <HYPERTENSION comment=\"\" end=\"824\" id=\"H10\" indicator=\"mention\" start=\"812\" text=\"Hypertension\" time=\"after DCT\" />\n",
      "      <HYPERTENSION comment=\"\" end=\"824\" id=\"H11\" indicator=\"mention\" start=\"812\" text=\"Hypertension\" time=\"after DCT\" />\n",
      "    </HYPERTENSION>\n",
      "    <FAMILY_HIST id=\"DOC5\" indicator=\"not present\">\n",
      "      <FAMILY_HIST id=\"F0\" indicator=\"not present\" />\n",
      "      <FAMILY_HIST id=\"F1\" indicator=\"not present\" />\n",
      "      <FAMILY_HIST id=\"F2\" indicator=\"not present\" />\n",
      "    </FAMILY_HIST>\n",
      "    <SMOKER id=\"DOC2\" status=\"current\">\n",
      "      <SMOKER comment=\"\" end=\"378\" id=\"S0\" start=\"334\" status=\"current\" text=\"cut back his cigarettes to one time per week\" />\n",
      "      <SMOKER comment=\"\" end=\"357\" id=\"S1\" start=\"333\" status=\"current\" text=\" cut back his cigarettes\" />\n",
      "      <SMOKER comment=\"\" end=\"378\" id=\"S2\" start=\"347\" status=\"current\" text=\"cigarettes to one time per week\" />\n",
      "      <SMOKER comment=\"\" end=\"787\" id=\"S3\" start=\"770\" status=\"current\" text=\"Cigarette smoking\" />\n",
      "    </SMOKER>\n",
      "  </TAGS>\n",
      "</root>\n"
     ]
    }
   ],
   "source": [
    "print(ET.tostring(root, encoding='utf8').decode('utf8'))\n"
   ]
  },
  {
   "cell_type": "code",
   "execution_count": 19,
   "metadata": {},
   "outputs": [],
   "source": [
    "for HYPERTENSION in root.iter('name'):\n",
    "    print(HYPERTENSION.attrib)"
   ]
  },
  {
   "cell_type": "code",
   "execution_count": 21,
   "metadata": {},
   "outputs": [],
   "source": [
    "for description in root.iter('hypertension'):\n",
    "    print(description.text)\n"
   ]
  },
  {
   "cell_type": "code",
   "execution_count": null,
   "metadata": {},
   "outputs": [],
   "source": []
  }
 ],
 "metadata": {
  "kernelspec": {
   "display_name": "Python 3",
   "language": "python",
   "name": "python3"
  },
  "language_info": {
   "codemirror_mode": {
    "name": "ipython",
    "version": 3
   },
   "file_extension": ".py",
   "mimetype": "text/x-python",
   "name": "python",
   "nbconvert_exporter": "python",
   "pygments_lexer": "ipython3",
   "version": "3.7.3"
  }
 },
 "nbformat": 4,
 "nbformat_minor": 2
}
