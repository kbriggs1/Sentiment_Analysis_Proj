{
 "cells": [
  {
   "cell_type": "markdown",
   "metadata": {},
   "source": [
    "## Import Dependencies"
   ]
  },
  {
   "cell_type": "code",
   "execution_count": 1,
   "metadata": {},
   "outputs": [
    {
     "name": "stderr",
     "output_type": "stream",
     "text": [
      "[nltk_data] Downloading package punkt to\n",
      "[nltk_data]     C:\\Users\\kryst\\AppData\\Roaming\\nltk_data...\n",
      "[nltk_data]   Package punkt is already up-to-date!\n"
     ]
    }
   ],
   "source": [
    "import re\n",
    "import copy\n",
    "import collections \n",
    "\n",
    "import pandas as pd\n",
    "import numpy as np\n",
    "import glob\n",
    "import nltk\n",
    "nltk.download('punkt')\n",
    "#from nltk.tokenize import sent_tokeniz\n",
    "from nltk.sentiment.vader import SentimentIntensityAnalyzer\n",
    "from nltk import sentiment\n",
    "from nltk import word_tokenize\n",
    "from nltk.stem import PorterStemmer\n",
    "from nltk.tokenize import WordPunctTokenizer\n",
    "import xml.etree.ElementTree as ET\n",
    "import matplotlib.pyplot as plt\n",
    "%matplotlib inline"
   ]
  },
  {
   "cell_type": "markdown",
   "metadata": {},
   "source": [
    "# Download Relevent Modules"
   ]
  },
  {
   "cell_type": "code",
   "execution_count": 2,
   "metadata": {},
   "outputs": [
    {
     "name": "stderr",
     "output_type": "stream",
     "text": [
      "[nltk_data] Downloading package stopwords to\n",
      "[nltk_data]     C:\\Users\\kryst\\AppData\\Roaming\\nltk_data...\n",
      "[nltk_data]   Package stopwords is already up-to-date!\n"
     ]
    },
    {
     "data": {
      "text/plain": [
       "True"
      ]
     },
     "execution_count": 2,
     "metadata": {},
     "output_type": "execute_result"
    }
   ],
   "source": [
    "nltk.download('stopwords')"
   ]
  },
  {
   "cell_type": "code",
   "execution_count": 31,
   "metadata": {},
   "outputs": [],
   "source": [
    "from nltk.corpus import stopwords\n",
    "stopWords= set(stopwords.words('english'))"
   ]
  },
  {
   "cell_type": "code",
   "execution_count": 3,
   "metadata": {},
   "outputs": [
    {
     "name": "stderr",
     "output_type": "stream",
     "text": [
      "[nltk_data] Downloading package vader_lexicon to\n",
      "[nltk_data]     C:\\Users\\kryst\\AppData\\Roaming\\nltk_data...\n",
      "[nltk_data]   Package vader_lexicon is already up-to-date!\n"
     ]
    },
    {
     "data": {
      "text/plain": [
       "True"
      ]
     },
     "execution_count": 3,
     "metadata": {},
     "output_type": "execute_result"
    }
   ],
   "source": [
    "nltk.download('vader_lexicon')"
   ]
  },
  {
   "cell_type": "markdown",
   "metadata": {},
   "source": [
    "## Calculate Sentiment Per Paragraph"
   ]
  },
  {
   "cell_type": "code",
   "execution_count": 4,
   "metadata": {},
   "outputs": [],
   "source": [
    "from nltk.sentiment.vader import SentimentIntensityAnalyzer"
   ]
  },
  {
   "cell_type": "code",
   "execution_count": 7,
   "metadata": {},
   "outputs": [
    {
     "name": "stdout",
     "output_type": "stream",
     "text": [
      "The patient is status post one lumbar epidural injection. He is 61 years old with previous history of diabetes, as well as a bilateral fem-pop surgery.\n"
     ]
    }
   ],
   "source": [
    "#Extract xml file\n",
    "tree = ET.parse('./111-03.xml')\n",
    "#tree = ET.parse('./110-01.xml')\n",
    "root = tree.getroot()\n",
    "from nltk.tokenize import word_tokenize\n",
    "#text contains sentence that will be analyzed\n",
    "text=\"\"\"The patient is status post one lumbar epidural injection. He is 61 years old with previous history of diabetes, as well as a bilateral fem-pop surgery.\"\"\" \n",
    "tokenized_text=word_tokenize(text)\n",
    "print(text)"
   ]
  },
  {
   "cell_type": "code",
   "execution_count": 8,
   "metadata": {},
   "outputs": [
    {
     "data": {
      "text/plain": [
       "'root'"
      ]
     },
     "execution_count": 8,
     "metadata": {},
     "output_type": "execute_result"
    }
   ],
   "source": [
    "root.tag"
   ]
  },
  {
   "cell_type": "code",
   "execution_count": 9,
   "metadata": {},
   "outputs": [
    {
     "data": {
      "text/plain": [
       "{}"
      ]
     },
     "execution_count": 9,
     "metadata": {},
     "output_type": "execute_result"
    }
   ],
   "source": [
    "root.attrib"
   ]
  },
  {
   "cell_type": "code",
   "execution_count": 10,
   "metadata": {},
   "outputs": [
    {
     "name": "stdout",
     "output_type": "stream",
     "text": [
      "TEXT {}\n",
      "TAGS {}\n"
     ]
    }
   ],
   "source": [
    "for child in root:\n",
    "    print(child.tag, child.attrib)"
   ]
  },
  {
   "cell_type": "code",
   "execution_count": 11,
   "metadata": {},
   "outputs": [
    {
     "data": {
      "text/plain": [
       "['root',\n",
       " 'TEXT',\n",
       " 'TAGS',\n",
       " 'FAMILY_HIST',\n",
       " 'FAMILY_HIST',\n",
       " 'FAMILY_HIST',\n",
       " 'FAMILY_HIST',\n",
       " 'SMOKER',\n",
       " 'SMOKER',\n",
       " 'SMOKER',\n",
       " 'SMOKER',\n",
       " 'DIABETES',\n",
       " 'DIABETES',\n",
       " 'DIABETES',\n",
       " 'DIABETES',\n",
       " 'DIABETES',\n",
       " 'DIABETES',\n",
       " 'DIABETES',\n",
       " 'DIABETES',\n",
       " 'DIABETES',\n",
       " 'DIABETES',\n",
       " 'DIABETES',\n",
       " 'DIABETES']"
      ]
     },
     "execution_count": 11,
     "metadata": {},
     "output_type": "execute_result"
    }
   ],
   "source": [
    "[elem.tag for elem in root.iter()]"
   ]
  },
  {
   "cell_type": "code",
   "execution_count": 12,
   "metadata": {},
   "outputs": [
    {
     "name": "stdout",
     "output_type": "stream",
     "text": [
      "<?xml version='1.0' encoding='utf8'?>\n",
      "<root>\n",
      "  <TEXT>\n",
      "\n",
      "\n",
      "Record date: 2086-12-08\n",
      "\n",
      "\n",
      "Silver Ridge Internal Medicine\n",
      "3 Eaton Place                                      OROZCO, KYLE\n",
      "Mansfield, NV 29473                                      56040785\n",
      "-----------                                           12/08/86\n",
      "\n",
      "\n",
      "INTERVAL HISTORY:  The patient is status post one lumbar epidural\n",
      "injection.  He is 61 years old with previous history of diabetes,\n",
      "as well as bilateral fem-pop surgery.  He has pain radiating to\n",
      "both legs up to calves and thighs.  He has moderate-to-severe\n",
      "spinal stenosis.  He had good response to L5-S1 epidural steroid\n",
      "injection once, about 3 months ago.  He states that he is\n",
      "reasonably symptom free but the pain is coming back.  Today, we\n",
      "are going to repeat the injection.\n",
      "\n",
      "PHYSICAL EXAMINATION:  Essentially unchanged from prior.\n",
      "\n",
      "PROCEDURE NOTE:  After obtaining informed consent, the patient\n",
      "placed in sitting position.  Lower back prepped and draped in\n",
      "usual sterile fashion.  A 17-gauge, Weiss needle used to access\n",
      "epidural space at L5-S1.  Three cc of Depo-Medrol and 3 cc of\n",
      "0.5% lidocaine were allowed to drip in via gravity.  No\n",
      "complications.  No heme, no CSF.  No paresthesia.\n",
      "\n",
      "FOLLOW-UP PLAN:  The patient to report for further injection in\n",
      "case needed in the next 2 or 3 months.\n",
      "\n",
      "\n",
      "\n",
      "\n",
      "\n",
      "______________________________\n",
      "Hardy Ostrowski, M.D.\n",
      "\n",
      "\n",
      "Dictated By: Hardy Ostrowski\n",
      "\n",
      "\n",
      "eScription document:1-1277442 EMSSten Tel\n",
      "\n",
      "\n",
      "\n",
      "DD: 12/08/86\n",
      "DT: 12/09/86\n",
      "DV: 12/08/86\n",
      "\n",
      "\n",
      "\n",
      "</TEXT>\n",
      "  <TAGS>\n",
      "    <FAMILY_HIST id=\"DOC0\" indicator=\"not present\">\n",
      "      <FAMILY_HIST id=\"F0\" indicator=\"not present\" />\n",
      "      <FAMILY_HIST id=\"F1\" indicator=\"not present\" />\n",
      "      <FAMILY_HIST id=\"F2\" indicator=\"not present\" />\n",
      "    </FAMILY_HIST>\n",
      "    <SMOKER id=\"DOC1\" status=\"unknown\">\n",
      "      <SMOKER id=\"S0\" status=\"unknown\" />\n",
      "      <SMOKER id=\"S1\" status=\"unknown\" />\n",
      "      <SMOKER comment=\"\" end=\"9\" id=\"S2\" start=\"3\" status=\"unknown\" text=\"Record\" />\n",
      "    </SMOKER>\n",
      "    <DIABETES id=\"DOC2\" indicator=\"mention\" time=\"after DCT\">\n",
      "      <DIABETES comment=\"\" end=\"385\" id=\"D0\" indicator=\"mention\" start=\"377\" text=\"diabetes\" time=\"after DCT\" />\n",
      "      <DIABETES comment=\"\" end=\"385\" id=\"D1\" indicator=\"mention\" start=\"377\" text=\"diabetes\" time=\"after DCT\" />\n",
      "      <DIABETES comment=\"\" end=\"385\" id=\"D2\" indicator=\"mention\" start=\"377\" text=\"diabetes\" time=\"after DCT\" />\n",
      "    </DIABETES>\n",
      "    <DIABETES id=\"DOC3\" indicator=\"mention\" time=\"during DCT\">\n",
      "      <DIABETES comment=\"\" end=\"385\" id=\"D3\" indicator=\"mention\" start=\"377\" text=\"diabetes\" time=\"during DCT\" />\n",
      "      <DIABETES comment=\"\" end=\"385\" id=\"D4\" indicator=\"mention\" start=\"377\" text=\"diabetes\" time=\"during DCT\" />\n",
      "      <DIABETES comment=\"\" end=\"385\" id=\"D5\" indicator=\"mention\" start=\"377\" text=\"diabetes\" time=\"during DCT\" />\n",
      "    </DIABETES>\n",
      "    <DIABETES id=\"DOC4\" indicator=\"mention\" time=\"before DCT\">\n",
      "      <DIABETES comment=\"\" end=\"385\" id=\"D6\" indicator=\"mention\" start=\"377\" text=\"diabetes\" time=\"before DCT\" />\n",
      "      <DIABETES comment=\"\" end=\"385\" id=\"D7\" indicator=\"mention\" start=\"377\" text=\"diabetes\" time=\"before DCT\" />\n",
      "      <DIABETES comment=\"\" end=\"385\" id=\"D8\" indicator=\"mention\" start=\"377\" text=\"diabetes\" time=\"before DCT\" />\n",
      "    </DIABETES>\n",
      "  </TAGS>\n",
      "</root>\n"
     ]
    }
   ],
   "source": [
    "print(ET.tostring(root, encoding='utf8').decode('utf8'))"
   ]
  },
  {
   "cell_type": "markdown",
   "metadata": {},
   "source": [
    "## Determine Scope of Clinical Narrative\n"
   ]
  },
  {
   "cell_type": "code",
   "execution_count": 16,
   "metadata": {},
   "outputs": [],
   "source": [
    "#Initiate VADER \n",
    "sid = SentimentIntensityAnalyzer()"
   ]
  },
  {
   "cell_type": "code",
   "execution_count": 17,
   "metadata": {},
   "outputs": [
    {
     "name": "stdout",
     "output_type": "stream",
     "text": [
      "compound: 0.2732, neg: 0.0, neu: 0.92, pos: 0.08, "
     ]
    }
   ],
   "source": [
    "#Initializing the polarity_scores method on sid and passing in the message_text outputs a dictionary with negative, neutral, positive, and compound scores for the input text\n",
    "scores = sid.polarity_scores(text)\n",
    "for key in sorted(scores):\n",
    "        print('{0}: {1}, '.format(key, scores[key]), end='')"
   ]
  },
  {
   "cell_type": "code",
   "execution_count": 18,
   "metadata": {},
   "outputs": [
    {
     "name": "stdout",
     "output_type": "stream",
     "text": [
      " He has pain radiating to both legs up to calves and thighs.\n",
      "compound: -0.5106, neg: 0.231, neu: 0.769, pos: 0.0, \n",
      "He has moderate-to-severe spinal stenosis.\n",
      "compound: 0.0, neg: 0.0, neu: 1.0, pos: 0.0, \n",
      "He had good response to L5-S1 epidural steroid injection once, about 3 months ago.\n",
      "compound: 0.4404, neg: 0.0, neu: 0.805, pos: 0.195, \n",
      "He states thathe is resonsably symptom free but the pain is coming back.\n",
      "compound: -0.5106, neg: 0.253, neu: 0.625, pos: 0.122, \n",
      "Today we are going to repreat the injection.\n",
      "compound: 0.0, neg: 0.0, neu: 1.0, pos: 0.0, \n"
     ]
    }
   ],
   "source": [
    "sid = SentimentIntensityAnalyzer()\n",
    "tokenizer = nltk.data.load('tokenizers/punkt/english.pickle')\n",
    "message_text=\"\"\" He has pain radiating to both legs up to calves and thighs. He has moderate-to-severe spinal stenosis. He had good response to L5-S1 epidural steroid injection once, about 3 months ago. He states thathe is resonsably symptom free but the pain is coming back. Today we are going to repreat the injection.\"\"\"\n",
    "sentences = tokenizer.tokenize(message_text)\n",
    "for sentence in sentences:\n",
    "        print(sentence)\n",
    "        scores = sid.polarity_scores(sentence)\n",
    "        for key in sorted(scores):\n",
    "                print('{0}: {1}, '.format(key, scores[key]), end='')\n",
    "        print()\n"
   ]
  },
  {
   "cell_type": "code",
   "execution_count": 19,
   "metadata": {},
   "outputs": [],
   "source": [
    "#repeat above with second text \n",
    "scores = sid.polarity_scores(message_text)"
   ]
  },
  {
   "cell_type": "code",
   "execution_count": 20,
   "metadata": {},
   "outputs": [
    {
     "name": "stdout",
     "output_type": "stream",
     "text": [
      "I have not seen him since November. About three weeks ago he stopped his Prednisone on his own because he was gaining weight. He does feel that his shoulders are definitely improved.\n"
     ]
    }
   ],
   "source": [
    "#tree = ET.parse('./111-03.xml')\n",
    "tree = ET.parse('./110-01.xml')\n",
    "root = tree.getroot()\n",
    "from nltk.tokenize import word_tokenize\n",
    "#create message_text to initialize analyzed text\n",
    "text=\"\"\"I have not seen him since November. About three weeks ago he stopped his Prednisone on his own because he was gaining weight. He does feel that his shoulders are definitely improved.\"\"\" \n",
    "tokenized_text=word_tokenize(text)\n",
    "print(text)"
   ]
  },
  {
   "cell_type": "code",
   "execution_count": 21,
   "metadata": {},
   "outputs": [
    {
     "data": {
      "text/plain": [
       "['root',\n",
       " 'TEXT',\n",
       " 'TAGS',\n",
       " 'MEDICATION',\n",
       " 'MEDICATION',\n",
       " 'MEDICATION',\n",
       " 'MEDICATION',\n",
       " 'MEDICATION',\n",
       " 'MEDICATION',\n",
       " 'MEDICATION',\n",
       " 'MEDICATION',\n",
       " 'MEDICATION',\n",
       " 'MEDICATION',\n",
       " 'MEDICATION',\n",
       " 'MEDICATION',\n",
       " 'MEDICATION',\n",
       " 'MEDICATION',\n",
       " 'MEDICATION',\n",
       " 'MEDICATION',\n",
       " 'MEDICATION',\n",
       " 'MEDICATION',\n",
       " 'MEDICATION',\n",
       " 'MEDICATION',\n",
       " 'MEDICATION',\n",
       " 'HYPERTENSION',\n",
       " 'HYPERTENSION',\n",
       " 'HYPERTENSION',\n",
       " 'HYPERTENSION',\n",
       " 'HYPERTENSION',\n",
       " 'HYPERTENSION',\n",
       " 'HYPERTENSION',\n",
       " 'HYPERTENSION',\n",
       " 'HYPERTENSION',\n",
       " 'HYPERTENSION',\n",
       " 'HYPERTENSION',\n",
       " 'HYPERTENSION',\n",
       " 'FAMILY_HIST',\n",
       " 'FAMILY_HIST',\n",
       " 'FAMILY_HIST',\n",
       " 'FAMILY_HIST',\n",
       " 'SMOKER',\n",
       " 'SMOKER',\n",
       " 'SMOKER',\n",
       " 'SMOKER']"
      ]
     },
     "execution_count": 21,
     "metadata": {},
     "output_type": "execute_result"
    }
   ],
   "source": [
    "[elem.tag for elem in root.iter()]"
   ]
  },
  {
   "cell_type": "code",
   "execution_count": 22,
   "metadata": {},
   "outputs": [
    {
     "name": "stdout",
     "output_type": "stream",
     "text": [
      "<?xml version='1.0' encoding='utf8'?>\n",
      "<root>\n",
      "  <TEXT>\n",
      "\n",
      "\n",
      "Record date: 2069-04-07\n",
      "\n",
      " \n",
      " \n",
      " \n",
      "Mr. Villegas is seen today.  I have not seen him since November. \n",
      "About three weeks ago he stopped his Prednisone on his own because\n",
      "he was gaining weight.  He does feel that his shoulders are\n",
      "definitely improved.  It is unclear what he is actually taking, but\n",
      "I think based on the color of his pills and the timing of the\n",
      "medication that he continues taking his Atenolol for hypertension\n",
      "and 1 Hydroxychloroquine tablet.  He is concerned because of the\n",
      "relatively recent onset of difficulties turning his head to the\n",
      "right.  When he does this, he will note that he feels as though he\n",
      "is going to pass out although this has not actually happened.  This\n",
      "only occurs when he turns to the right and not to the left.  He has\n",
      "no visual changes otherwise and denies any headache or other\n",
      "cranial complaints.  \n",
      " \n",
      "On examination today, BP 120/80.  He has no bruits over the\n",
      "carotid.  He has no tenderness in this region either.  He has good\n",
      "peripheral pulses at the arms.  His joint examination is much\n",
      "improved with better ROM of the shoulders and no peripheral joint\n",
      "synovitis.  \n",
      " \n",
      "Clinical Impression:\n",
      " \n",
      "#1:  Inflammatory arthritis - possibly RA - with response noted to\n",
      "Hydroxychloroquine along with Prednisone.  He has stopped the\n",
      "Prednisone, and I would not restart it yet.  \n",
      " \n",
      "#2:  New onset of symptoms suspicious for right-sided carotid\n",
      "disease.  Will arrange for carotid ultrasound studies.  Patient\n",
      "advised to call me if he develops any worsening symptoms.  He has\n",
      "been taking 1 aspirin per day prophylaxis long-term, and I stressed\n",
      "that he continue to do so.  He will follow-up with me shortly after\n",
      "the ultrasound study.\n",
      " \n",
      " \n",
      " \n",
      "Xzavian G. Tavares, M.D.\n",
      "XGT:holmes\n",
      " \n",
      "DD: 04/07/69\n",
      "DT: 04/15/69\n",
      "DV: 04/07/69\n",
      " ******** Approved but not reviewed by Attending Provider ********\n",
      "\n",
      "\n",
      "\n",
      "\n",
      "</TEXT>\n",
      "  <TAGS>\n",
      "    <MEDICATION id=\"DOC0\" time=\"during DCT\" type1=\"aspirin\" type2=\"\">\n",
      "      <MEDICATION comment=\"\" end=\"1523\" id=\"M0\" start=\"1516\" text=\"aspirin\" time=\"during DCT\" type1=\"aspirin\" type2=\"\" />\n",
      "      <MEDICATION comment=\"\" end=\"1523\" id=\"M1\" start=\"1516\" text=\"aspirin\" time=\"during DCT\" type1=\"aspirin\" type2=\"\" />\n",
      "    </MEDICATION>\n",
      "    <MEDICATION id=\"DOC1\" time=\"before DCT\" type1=\"aspirin\" type2=\"\">\n",
      "      <MEDICATION comment=\"\" end=\"1523\" id=\"M2\" start=\"1516\" text=\"aspirin\" time=\"before DCT\" type1=\"aspirin\" type2=\"\" />\n",
      "      <MEDICATION comment=\"\" end=\"1523\" id=\"M3\" start=\"1516\" text=\"aspirin\" time=\"before DCT\" type1=\"aspirin\" type2=\"\" />\n",
      "    </MEDICATION>\n",
      "    <MEDICATION id=\"DOC3\" time=\"before DCT\" type1=\"beta blocker\" type2=\"\">\n",
      "      <MEDICATION comment=\"\" end=\"405\" id=\"M4\" start=\"397\" text=\"Atenolol\" time=\"before DCT\" type1=\"beta blocker\" type2=\"\" />\n",
      "      <MEDICATION comment=\"\" end=\"405\" id=\"M5\" start=\"397\" text=\"Atenolol\" time=\"before DCT\" type1=\"beta blocker\" type2=\"\" />\n",
      "      <MEDICATION comment=\"\" end=\"405\" id=\"M6\" start=\"397\" text=\"Atenolol\" time=\"before DCT\" type1=\"beta blocker\" type2=\"\" />\n",
      "    </MEDICATION>\n",
      "    <MEDICATION id=\"DOC5\" time=\"after DCT\" type1=\"aspirin\" type2=\"\">\n",
      "      <MEDICATION comment=\"\" end=\"1523\" id=\"M7\" start=\"1516\" text=\"aspirin\" time=\"after DCT\" type1=\"aspirin\" type2=\"\" />\n",
      "      <MEDICATION comment=\"\" end=\"1523\" id=\"M8\" start=\"1516\" text=\"aspirin\" time=\"after DCT\" type1=\"aspirin\" type2=\"\" />\n",
      "    </MEDICATION>\n",
      "    <MEDICATION id=\"DOC6\" time=\"after DCT\" type1=\"beta blocker\" type2=\"\">\n",
      "      <MEDICATION comment=\"\" end=\"405\" id=\"M9\" start=\"397\" text=\"Atenolol\" time=\"after DCT\" type1=\"beta blocker\" type2=\"\" />\n",
      "      <MEDICATION comment=\"\" end=\"405\" id=\"M10\" start=\"397\" text=\"Atenolol\" time=\"after DCT\" type1=\"beta blocker\" type2=\"\" />\n",
      "      <MEDICATION comment=\"\" end=\"405\" id=\"M11\" start=\"397\" text=\"Atenolol\" time=\"after DCT\" type1=\"beta blocker\" type2=\"\" />\n",
      "    </MEDICATION>\n",
      "    <MEDICATION id=\"DOC8\" time=\"during DCT\" type1=\"beta blocker\" type2=\"\">\n",
      "      <MEDICATION comment=\"\" end=\"405\" id=\"M12\" start=\"397\" text=\"Atenolol\" time=\"during DCT\" type1=\"beta blocker\" type2=\"\" />\n",
      "      <MEDICATION comment=\"\" end=\"405\" id=\"M13\" start=\"397\" text=\"Atenolol\" time=\"during DCT\" type1=\"beta blocker\" type2=\"\" />\n",
      "      <MEDICATION comment=\"\" end=\"405\" id=\"M14\" start=\"397\" text=\"Atenolol\" time=\"during DCT\" type1=\"beta blocker\" type2=\"\" />\n",
      "    </MEDICATION>\n",
      "    <HYPERTENSION id=\"DOC2\" indicator=\"mention\" time=\"during DCT\">\n",
      "      <HYPERTENSION comment=\"\" end=\"422\" id=\"H0\" indicator=\"mention\" start=\"410\" text=\"hypertension\" time=\"during DCT\" />\n",
      "      <HYPERTENSION comment=\"\" end=\"422\" id=\"H1\" indicator=\"mention\" start=\"410\" text=\"hypertension\" time=\"during DCT\" />\n",
      "      <HYPERTENSION comment=\"\" end=\"422\" id=\"H2\" indicator=\"mention\" start=\"410\" text=\"hypertension\" time=\"during DCT\" />\n",
      "    </HYPERTENSION>\n",
      "    <HYPERTENSION id=\"DOC4\" indicator=\"mention\" time=\"before DCT\">\n",
      "      <HYPERTENSION comment=\"\" end=\"422\" id=\"H3\" indicator=\"mention\" start=\"410\" text=\"hypertension\" time=\"before DCT\" />\n",
      "      <HYPERTENSION comment=\"\" end=\"422\" id=\"H4\" indicator=\"mention\" start=\"410\" text=\"hypertension\" time=\"before DCT\" />\n",
      "      <HYPERTENSION comment=\"\" end=\"422\" id=\"H5\" indicator=\"mention\" start=\"410\" text=\"hypertension\" time=\"before DCT\" />\n",
      "    </HYPERTENSION>\n",
      "    <HYPERTENSION id=\"DOC9\" indicator=\"mention\" time=\"after DCT\">\n",
      "      <HYPERTENSION comment=\"\" end=\"422\" id=\"H6\" indicator=\"mention\" start=\"410\" text=\"hypertension\" time=\"after DCT\" />\n",
      "      <HYPERTENSION comment=\"\" end=\"422\" id=\"H7\" indicator=\"mention\" start=\"410\" text=\"hypertension\" time=\"after DCT\" />\n",
      "      <HYPERTENSION comment=\"\" end=\"422\" id=\"H8\" indicator=\"mention\" start=\"410\" text=\"hypertension\" time=\"after DCT\" />\n",
      "    </HYPERTENSION>\n",
      "    <FAMILY_HIST id=\"DOC10\" indicator=\"not present\">\n",
      "      <FAMILY_HIST id=\"F0\" indicator=\"not present\" />\n",
      "      <FAMILY_HIST id=\"F1\" indicator=\"not present\" />\n",
      "      <FAMILY_HIST id=\"F2\" indicator=\"not present\" />\n",
      "    </FAMILY_HIST>\n",
      "    <SMOKER id=\"DOC7\" status=\"unknown\">\n",
      "      <SMOKER id=\"S0\" status=\"unknown\" />\n",
      "      <SMOKER id=\"S1\" status=\"unknown\" />\n",
      "      <SMOKER comment=\"\" end=\"9\" id=\"S2\" start=\"3\" status=\"unknown\" text=\"Record\" />\n",
      "    </SMOKER>\n",
      "  </TAGS>\n",
      "</root>\n"
     ]
    }
   ],
   "source": [
    "print(ET.tostring(root, encoding='utf8').decode('utf8'))"
   ]
  },
  {
   "cell_type": "code",
   "execution_count": 23,
   "metadata": {},
   "outputs": [
    {
     "name": "stdout",
     "output_type": "stream",
     "text": [
      "compound: -0.5423, neg: 0.114, neu: 0.815, pos: 0.071, "
     ]
    }
   ],
   "source": [
    "#loop through the keys contained in scores (pos, neu, neg, and compound scores) and print the key-value pairs on the screen\n",
    "\n",
    "sid = SentimentIntensityAnalyzer()\n",
    "for key in sorted(scores):\n",
    "        print('{0}: {1}, '.format(key, scores[key]), end='')"
   ]
  },
  {
   "cell_type": "code",
   "execution_count": 24,
   "metadata": {},
   "outputs": [
    {
     "name": "stdout",
     "output_type": "stream",
     "text": [
      " It is unclear what he is actually taking, but I think based on the color of his pills and the timing of the medication that he continues taking his Atenolol for hypertension and 1 Hydroxychloroquine tablet.\n",
      "compound: -0.128, neg: 0.043, neu: 0.957, pos: 0.0, \n",
      "He is concerned because of the relatively recent onset of difficulties turning his head to the right.\n",
      "compound: -0.296, neg: 0.121, neu: 0.879, pos: 0.0, \n",
      "When he does this, he will note that he feels as though he is going to pass out although this not actually happened.\n",
      "compound: 0.0, neg: 0.0, neu: 1.0, pos: 0.0, \n",
      "This only occurs when he turns to the right and not to the left.\n",
      "compound: 0.0, neg: 0.0, neu: 1.0, pos: 0.0, \n",
      "He has no visual changes otherwise an denies any headache or other cranial complaints.\n",
      "compound: -0.7717, neg: 0.412, neu: 0.588, pos: 0.0, \n"
     ]
    }
   ],
   "source": [
    "sid = SentimentIntensityAnalyzer()\n",
    "tokenizer = nltk.data.load('tokenizers/punkt/english.pickle')\n",
    "message_text=\"\"\" It is unclear what he is actually taking, but I think based on the color of his pills and the timing of the medication that he continues taking his Atenolol for hypertension and 1 Hydroxychloroquine tablet. He is concerned because of the relatively recent onset of difficulties turning his head to the right. When he does this, he will note that he feels as though he is going to pass out although this not actually happened. This only occurs when he turns to the right and not to the left. He has no visual changes otherwise an denies any headache or other cranial complaints.\"\"\"\n",
    "sentences = tokenizer.tokenize(message_text)\n",
    "for sentence in sentences:\n",
    "        print(sentence)\n",
    "        scores = sid.polarity_scores(sentence)\n",
    "        for key in sorted(scores):\n",
    "                print('{0}: {1}, '.format(key, scores[key]), end='')\n",
    "        print()\n"
   ]
  },
  {
   "cell_type": "markdown",
   "metadata": {},
   "source": [
    "## Lexical Categories and Most Commonly Tagged Words "
   ]
  },
  {
   "cell_type": "code",
   "execution_count": 36,
   "metadata": {},
   "outputs": [
    {
     "name": "stdout",
     "output_type": "stream",
     "text": [
      "179\n",
      "{'will', 'these', 'an', 'each', \"hasn't\", 'its', 'did', 'this', 'wasn', 'at', 'below', 'that', 'the', 'themselves', 'being', 'further', \"wouldn't\", 'whom', 'how', 'than', 'am', 'who', 'mustn', 'or', 'd', 've', 'were', 'in', 'are', 'why', 'under', 't', 's', 'does', 'both', 'him', 'had', \"don't\", 'aren', 'a', 'other', \"it's\", 'by', 'll', \"weren't\", 'for', \"didn't\", 'o', 'so', 'theirs', 'very', 'between', \"shouldn't\", 'over', 'too', 'few', 'don', \"she's\", 'yourselves', 'is', 'during', 'when', 'shan', \"you've\", 'having', \"shan't\", 'their', 'was', 'hers', 'do', 'ours', 'as', 'just', 'have', 'not', 'himself', 'our', 'of', 'myself', \"you'd\", 'yourself', 'it', 'hasn', 'she', 'any', 'weren', 'some', 'about', 'your', 're', \"doesn't\", 'up', 'has', \"aren't\", 'no', 'her', \"won't\", 'can', 'with', 'down', 'yours', 'which', 'only', 'nor', 'those', 'where', \"you'll\", 'and', 'you', 'against', 'doesn', 'own', \"you're\", 'then', 'through', 'there', \"needn't\", \"mustn't\", \"hadn't\", 'more', 'them', 'again', 'doing', 'mightn', 'won', 'ma', 'off', \"haven't\", 'they', 'been', 'couldn', 'y', 'on', 'he', 'from', 'be', 'until', 'me', 'what', 'we', 'before', 'into', 'because', \"mightn't\", 'his', 'now', 'should', 'hadn', 'ourselves', \"isn't\", 'i', \"couldn't\", \"that'll\", 'same', 'wouldn', 'itself', 'haven', \"wasn't\", 'shouldn', 'out', 'isn', \"should've\", 'once', 'if', 'while', 'such', 'didn', 'my', 'herself', 'to', 'but', 'after', 'ain', 'above', 'needn', 'm', 'all', 'most', 'here'}\n"
     ]
    }
   ],
   "source": [
    "print(len(stopWords))\n",
    "print(stopWords)"
   ]
  },
  {
   "cell_type": "code",
   "execution_count": 51,
   "metadata": {},
   "outputs": [
    {
     "data": {
      "text/plain": [
       "[('I', 'PRP'),\n",
       " (' ', 'VBP'),\n",
       " ('h', 'PDT'),\n",
       " ('a', 'DT'),\n",
       " ('v', 'NN'),\n",
       " ('e', 'NN'),\n",
       " (' ', 'NNP'),\n",
       " ('n', 'CC'),\n",
       " ('o', 'JJ'),\n",
       " ('t', 'NN'),\n",
       " (' ', 'NNP'),\n",
       " ('s', 'NN'),\n",
       " ('e', 'NN'),\n",
       " ('e', 'NN'),\n",
       " ('n', 'JJ'),\n",
       " (' ', 'NNP'),\n",
       " ('h', 'NN'),\n",
       " ('i', 'NN'),\n",
       " ('m', 'VBP'),\n",
       " (' ', 'IN'),\n",
       " ('s', 'NN'),\n",
       " ('i', 'NN'),\n",
       " ('n', 'VBP'),\n",
       " ('c', 'NN'),\n",
       " ('e', 'NN'),\n",
       " (' ', 'NNP'),\n",
       " ('N', 'NNP'),\n",
       " ('o', 'MD'),\n",
       " ('v', 'VB'),\n",
       " ('e', 'NN'),\n",
       " ('m', 'NN'),\n",
       " ('b', 'NN'),\n",
       " ('e', 'NN'),\n",
       " ('r', 'NN'),\n",
       " ('.', '.'),\n",
       " (' ', 'VB'),\n",
       " ('A', 'DT'),\n",
       " ('b', 'NN'),\n",
       " ('o', 'NN'),\n",
       " ('u', 'JJ'),\n",
       " ('t', 'NN'),\n",
       " (' ', 'NNP'),\n",
       " ('t', 'NN'),\n",
       " ('h', 'NN'),\n",
       " ('r', 'NN'),\n",
       " ('e', 'NN'),\n",
       " ('e', 'NN'),\n",
       " (' ', 'NNP'),\n",
       " ('w', 'NN'),\n",
       " ('e', 'NN'),\n",
       " ('e', 'NN'),\n",
       " ('k', 'NN'),\n",
       " ('s', 'VBD'),\n",
       " (' ', 'PDT'),\n",
       " ('a', 'DT'),\n",
       " ('g', 'NN'),\n",
       " ('o', 'NN'),\n",
       " (' ', 'NNP'),\n",
       " ('h', 'NN'),\n",
       " ('e', 'NN'),\n",
       " (' ', 'NNP'),\n",
       " ('s', 'NN'),\n",
       " ('t', 'NN'),\n",
       " ('o', 'NN'),\n",
       " ('p', 'NN'),\n",
       " ('p', 'NN'),\n",
       " ('e', 'NN'),\n",
       " ('d', 'NN'),\n",
       " (' ', 'NNP'),\n",
       " ('h', 'NN'),\n",
       " ('i', 'NN'),\n",
       " ('s', 'VBP'),\n",
       " (' ', 'NN'),\n",
       " ('P', 'NNP'),\n",
       " ('r', 'NN'),\n",
       " ('e', 'NN'),\n",
       " ('d', 'NN'),\n",
       " ('n', 'NN'),\n",
       " ('i', 'NN'),\n",
       " ('s', 'VBP'),\n",
       " ('o', 'JJ'),\n",
       " ('n', 'JJ'),\n",
       " ('e', 'NN'),\n",
       " (' ', 'NNP'),\n",
       " ('o', 'VBZ'),\n",
       " ('n', 'JJ'),\n",
       " (' ', 'NNP'),\n",
       " ('h', 'NN'),\n",
       " ('i', 'NN'),\n",
       " ('s', 'VBP'),\n",
       " (' ', 'JJ'),\n",
       " ('o', 'NN'),\n",
       " ('w', 'NN'),\n",
       " ('n', 'NN'),\n",
       " (' ', 'NN'),\n",
       " ('b', 'NN'),\n",
       " ('e', 'NN'),\n",
       " ('c', 'VBZ'),\n",
       " ('a', 'DT'),\n",
       " ('u', 'JJ'),\n",
       " ('s', 'NN'),\n",
       " ('e', 'NN'),\n",
       " (' ', 'NNP'),\n",
       " ('h', 'NN'),\n",
       " ('e', 'NN'),\n",
       " (' ', 'NNP'),\n",
       " ('w', 'VBZ'),\n",
       " ('a', 'DT'),\n",
       " ('s', 'JJ'),\n",
       " (' ', 'NN'),\n",
       " ('g', 'VBD'),\n",
       " ('a', 'DT'),\n",
       " ('i', 'JJ'),\n",
       " ('n', 'NN'),\n",
       " ('i', 'NN'),\n",
       " ('n', 'VBP'),\n",
       " ('g', 'NN'),\n",
       " (' ', 'NNP'),\n",
       " ('w', 'NN'),\n",
       " ('e', 'NN'),\n",
       " ('i', 'NN'),\n",
       " ('g', 'VBP'),\n",
       " ('h', 'NN'),\n",
       " ('t', 'NN'),\n",
       " ('.', '.'),\n",
       " (' ', 'CC'),\n",
       " ('H', 'NNP'),\n",
       " ('e', 'VBP'),\n",
       " (' ', 'NNP'),\n",
       " ('d', 'NN'),\n",
       " ('o', 'NN'),\n",
       " ('e', 'NN'),\n",
       " ('s', 'NN'),\n",
       " (' ', 'NNP'),\n",
       " ('f', 'NN'),\n",
       " ('e', 'NN'),\n",
       " ('e', 'NN'),\n",
       " ('l', 'NN'),\n",
       " (' ', 'NNP'),\n",
       " ('t', 'NN'),\n",
       " ('h', 'VBD'),\n",
       " ('a', 'DT'),\n",
       " ('t', 'NN'),\n",
       " (' ', 'NN'),\n",
       " ('h', 'NN'),\n",
       " ('i', 'JJ'),\n",
       " ('s', 'VBP'),\n",
       " (' ', 'JJ'),\n",
       " ('s', 'NN'),\n",
       " ('h', 'NN'),\n",
       " ('o', 'JJ'),\n",
       " ('u', 'JJ'),\n",
       " ('l', 'NN'),\n",
       " ('d', 'NN'),\n",
       " ('e', 'NN'),\n",
       " ('r', 'NN'),\n",
       " ('s', 'NN'),\n",
       " (' ', 'VBZ'),\n",
       " ('a', 'DT'),\n",
       " ('r', 'NN'),\n",
       " ('e', 'NN'),\n",
       " (' ', 'NNP'),\n",
       " ('d', 'NN'),\n",
       " ('e', 'NN'),\n",
       " ('f', 'NN'),\n",
       " ('i', 'NN'),\n",
       " ('n', 'VBP'),\n",
       " ('i', 'NN'),\n",
       " ('t', 'VBP'),\n",
       " ('e', 'NN'),\n",
       " ('l', 'NN'),\n",
       " ('y', 'NN'),\n",
       " (' ', 'NN'),\n",
       " ('i', 'NN'),\n",
       " ('m', 'VBP'),\n",
       " ('p', 'NN'),\n",
       " ('r', 'NN'),\n",
       " ('o', 'NN'),\n",
       " ('v', 'NN'),\n",
       " ('e', 'NN'),\n",
       " ('d', 'NN'),\n",
       " ('.', '.')]"
      ]
     },
     "execution_count": 51,
     "metadata": {},
     "output_type": "execute_result"
    }
   ],
   "source": [
    "import nltk\n",
    "nltk.download\n",
    "message_text = word_tokenize(\"It is unclear what he is actually taking, but I think based on the color of his pills and the timing of the medication that he continues taking his Atenolol for hypertension and 1 Hydroxychloroquine tablet.\")\n",
    "nltk.pos_tag(text)"
   ]
  },
  {
   "cell_type": "code",
   "execution_count": 50,
   "metadata": {},
   "outputs": [
    {
     "data": {
      "text/plain": [
       "[('I', 'PRP'),\n",
       " (' ', 'VBP'),\n",
       " ('h', 'PDT'),\n",
       " ('a', 'DT'),\n",
       " ('v', 'NN'),\n",
       " ('e', 'NN'),\n",
       " (' ', 'NNP'),\n",
       " ('n', 'CC'),\n",
       " ('o', 'JJ'),\n",
       " ('t', 'NN'),\n",
       " (' ', 'NNP'),\n",
       " ('s', 'NN'),\n",
       " ('e', 'NN'),\n",
       " ('e', 'NN'),\n",
       " ('n', 'JJ'),\n",
       " (' ', 'NNP'),\n",
       " ('h', 'NN'),\n",
       " ('i', 'NN'),\n",
       " ('m', 'VBP'),\n",
       " (' ', 'IN'),\n",
       " ('s', 'NN'),\n",
       " ('i', 'NN'),\n",
       " ('n', 'VBP'),\n",
       " ('c', 'NN'),\n",
       " ('e', 'NN'),\n",
       " (' ', 'NNP'),\n",
       " ('N', 'NNP'),\n",
       " ('o', 'MD'),\n",
       " ('v', 'VB'),\n",
       " ('e', 'NN'),\n",
       " ('m', 'NN'),\n",
       " ('b', 'NN'),\n",
       " ('e', 'NN'),\n",
       " ('r', 'NN'),\n",
       " ('.', '.'),\n",
       " (' ', 'VB'),\n",
       " ('A', 'DT'),\n",
       " ('b', 'NN'),\n",
       " ('o', 'NN'),\n",
       " ('u', 'JJ'),\n",
       " ('t', 'NN'),\n",
       " (' ', 'NNP'),\n",
       " ('t', 'NN'),\n",
       " ('h', 'NN'),\n",
       " ('r', 'NN'),\n",
       " ('e', 'NN'),\n",
       " ('e', 'NN'),\n",
       " (' ', 'NNP'),\n",
       " ('w', 'NN'),\n",
       " ('e', 'NN'),\n",
       " ('e', 'NN'),\n",
       " ('k', 'NN'),\n",
       " ('s', 'VBD'),\n",
       " (' ', 'PDT'),\n",
       " ('a', 'DT'),\n",
       " ('g', 'NN'),\n",
       " ('o', 'NN'),\n",
       " (' ', 'NNP'),\n",
       " ('h', 'NN'),\n",
       " ('e', 'NN'),\n",
       " (' ', 'NNP'),\n",
       " ('s', 'NN'),\n",
       " ('t', 'NN'),\n",
       " ('o', 'NN'),\n",
       " ('p', 'NN'),\n",
       " ('p', 'NN'),\n",
       " ('e', 'NN'),\n",
       " ('d', 'NN'),\n",
       " (' ', 'NNP'),\n",
       " ('h', 'NN'),\n",
       " ('i', 'NN'),\n",
       " ('s', 'VBP'),\n",
       " (' ', 'NN'),\n",
       " ('P', 'NNP'),\n",
       " ('r', 'NN'),\n",
       " ('e', 'NN'),\n",
       " ('d', 'NN'),\n",
       " ('n', 'NN'),\n",
       " ('i', 'NN'),\n",
       " ('s', 'VBP'),\n",
       " ('o', 'JJ'),\n",
       " ('n', 'JJ'),\n",
       " ('e', 'NN'),\n",
       " (' ', 'NNP'),\n",
       " ('o', 'VBZ'),\n",
       " ('n', 'JJ'),\n",
       " (' ', 'NNP'),\n",
       " ('h', 'NN'),\n",
       " ('i', 'NN'),\n",
       " ('s', 'VBP'),\n",
       " (' ', 'JJ'),\n",
       " ('o', 'NN'),\n",
       " ('w', 'NN'),\n",
       " ('n', 'NN'),\n",
       " (' ', 'NN'),\n",
       " ('b', 'NN'),\n",
       " ('e', 'NN'),\n",
       " ('c', 'VBZ'),\n",
       " ('a', 'DT'),\n",
       " ('u', 'JJ'),\n",
       " ('s', 'NN'),\n",
       " ('e', 'NN'),\n",
       " (' ', 'NNP'),\n",
       " ('h', 'NN'),\n",
       " ('e', 'NN'),\n",
       " (' ', 'NNP'),\n",
       " ('w', 'VBZ'),\n",
       " ('a', 'DT'),\n",
       " ('s', 'JJ'),\n",
       " (' ', 'NN'),\n",
       " ('g', 'VBD'),\n",
       " ('a', 'DT'),\n",
       " ('i', 'JJ'),\n",
       " ('n', 'NN'),\n",
       " ('i', 'NN'),\n",
       " ('n', 'VBP'),\n",
       " ('g', 'NN'),\n",
       " (' ', 'NNP'),\n",
       " ('w', 'NN'),\n",
       " ('e', 'NN'),\n",
       " ('i', 'NN'),\n",
       " ('g', 'VBP'),\n",
       " ('h', 'NN'),\n",
       " ('t', 'NN'),\n",
       " ('.', '.'),\n",
       " (' ', 'CC'),\n",
       " ('H', 'NNP'),\n",
       " ('e', 'VBP'),\n",
       " (' ', 'NNP'),\n",
       " ('d', 'NN'),\n",
       " ('o', 'NN'),\n",
       " ('e', 'NN'),\n",
       " ('s', 'NN'),\n",
       " (' ', 'NNP'),\n",
       " ('f', 'NN'),\n",
       " ('e', 'NN'),\n",
       " ('e', 'NN'),\n",
       " ('l', 'NN'),\n",
       " (' ', 'NNP'),\n",
       " ('t', 'NN'),\n",
       " ('h', 'VBD'),\n",
       " ('a', 'DT'),\n",
       " ('t', 'NN'),\n",
       " (' ', 'NN'),\n",
       " ('h', 'NN'),\n",
       " ('i', 'JJ'),\n",
       " ('s', 'VBP'),\n",
       " (' ', 'JJ'),\n",
       " ('s', 'NN'),\n",
       " ('h', 'NN'),\n",
       " ('o', 'JJ'),\n",
       " ('u', 'JJ'),\n",
       " ('l', 'NN'),\n",
       " ('d', 'NN'),\n",
       " ('e', 'NN'),\n",
       " ('r', 'NN'),\n",
       " ('s', 'NN'),\n",
       " (' ', 'VBZ'),\n",
       " ('a', 'DT'),\n",
       " ('r', 'NN'),\n",
       " ('e', 'NN'),\n",
       " (' ', 'NNP'),\n",
       " ('d', 'NN'),\n",
       " ('e', 'NN'),\n",
       " ('f', 'NN'),\n",
       " ('i', 'NN'),\n",
       " ('n', 'VBP'),\n",
       " ('i', 'NN'),\n",
       " ('t', 'VBP'),\n",
       " ('e', 'NN'),\n",
       " ('l', 'NN'),\n",
       " ('y', 'NN'),\n",
       " (' ', 'NN'),\n",
       " ('i', 'NN'),\n",
       " ('m', 'VBP'),\n",
       " ('p', 'NN'),\n",
       " ('r', 'NN'),\n",
       " ('o', 'NN'),\n",
       " ('v', 'NN'),\n",
       " ('e', 'NN'),\n",
       " ('d', 'NN'),\n",
       " ('.', '.')]"
      ]
     },
     "execution_count": 50,
     "metadata": {},
     "output_type": "execute_result"
    }
   ],
   "source": [
    "message_text = word_tokenize(\"When he does this, he will note that he feels as though he is going to pass out although this not actually happened.\")\n",
    "nltk.pos_tag(text)"
   ]
  },
  {
   "cell_type": "code",
   "execution_count": null,
   "metadata": {},
   "outputs": [],
   "source": []
  }
 ],
 "metadata": {
  "kernelspec": {
   "display_name": "Python 3",
   "language": "python",
   "name": "python3"
  },
  "language_info": {
   "codemirror_mode": {
    "name": "ipython",
    "version": 3
   },
   "file_extension": ".py",
   "mimetype": "text/x-python",
   "name": "python",
   "nbconvert_exporter": "python",
   "pygments_lexer": "ipython3",
   "version": "3.7.3"
  }
 },
 "nbformat": 4,
 "nbformat_minor": 2
}
